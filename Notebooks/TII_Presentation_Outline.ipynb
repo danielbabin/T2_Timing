{
 "cells": [
  {
   "cell_type": "markdown",
   "metadata": {},
   "source": [
    "### Question: Insolation and terminations: what is the link? How can we get better chronology for T2?"
   ]
  },
  {
   "cell_type": "markdown",
   "metadata": {},
   "source": [
    "In order to understand what triggers ice age terminations, we have to rely on well-dated, chronologically constrained paleoproxy records to establish a timeline or sequence of events leading up to the terminations.\n",
    "To do that, we need to answer the question of how do we get better chronologies for these terminations, in this case TII.\n"
   ]
  },
  {
   "cell_type": "markdown",
   "metadata": {},
   "source": [
    "### Part 1 - Better Chronology\n",
    "In order to get a better chronology or establish a strong age model for paleorecords pertaining to termination II, the last paper (Marino et al 2015) we have read in class is actually a good case study for this problem.\n",
    "\n",
    "1. We need to have independent radiometrically dated records and then compare those records on a single consistent time-scale. \n",
    "2. We have to compare apples with apples. A good example is how Marino et al 2015 tuned their N. pachyderma record with another radiometrically dated N. pachyderma record and built on the assumption that these two records were exposed to the same environments (makes them comparable). So that when we 'wiggle-match\", we know we are wiggle-matching similar records and are not introducing biases to the tuning process.\n",
    "3. Probably better off to establish the chronology independent of orbital forcing or not tune these records to orbital forcing. Otherwise you will be more biased and immediately assume that there is some orbital forcing in the record.\n",
    "4. Marino et al 2015 also did well in terms of clarifying the limitations and assumptions in their age model. They gave an extensive explanation on the reasons why they chose certain proxies and the mechanisms driving the variability in their record.\n",
    "5. They took a conservative approach to their tie-point matching and tuning. \n",
    "\n",
    "--- We can add more and cite other papers that have a good chronology too.\n",
    "\n",
    "--- Or we can cite how the Corchia cave records had an established date but somehow, how it was used in the Drysdale paper ended up not having a good chronology for the other records (eg. like the HS11 event that seemed to last for 7ky because the records were \"stretched\" too much.\n",
    "Just throwing some ideas"
   ]
  },
  {
   "cell_type": "markdown",
   "metadata": {},
   "source": [
    "### Part 2 - Insolation and terminations\n",
    "\n",
    "Now that we at least have a record that has a convincing timing and age model of termination II. We can add more records to compare to this timeline, including influences of insolation in the record.\n",
    "\n",
    "--- This is where we can insert the plot that we want to make comparing insolation, with the gases and isotopes data we have downloaded.\n",
    "\n",
    "--- Perhaps we can also include some figures from other papers discussed in class that seemed to have not perfect but good enough of a chronology.\n",
    "1. Shackleton 2003\n",
    "2. Sanchez-Goni 2012\n",
    "3. Jacobel 2015\n",
    "4. Cheng 2009\n",
    "5. Landais 2013\n",
    "\n",
    "They all seem to suggest that insolation plays a key roles in triggering terminations.\n"
   ]
  },
  {
   "cell_type": "markdown",
   "metadata": {},
   "source": [
    "### Conclusion / Hypothesis on Terminations\n",
    "1. We think that solar insolation plays a key role in triggering terminations. There are other factors contributing to the terminations, but we definitely think insolation plays a key role.\n",
    "\n",
    "2. We can probably talk about how SHSI peaks first that causes  mechanism to set the termination in motion and then when NHSI peaks then triggers the termination (something like this). -- Just throwing ideas around.\n",
    "\n",
    "3. We can probably build a story something like how Marino laid it out in the paper, depending on the results of the new plot that we will make.\n",
    "\n",
    "4. We can also cite other papers that are consistent with this hypothesis.\n"
   ]
  },
  {
   "cell_type": "markdown",
   "metadata": {},
   "source": [
    "Just throwing ideas.. Let me know what you think... :)"
   ]
  },
  {
   "cell_type": "code",
   "execution_count": null,
   "metadata": {},
   "outputs": [],
   "source": []
  }
 ],
 "metadata": {
  "kernelspec": {
   "display_name": "Python 3",
   "language": "python",
   "name": "python3"
  },
  "language_info": {
   "codemirror_mode": {
    "name": "ipython",
    "version": 3
   },
   "file_extension": ".py",
   "mimetype": "text/x-python",
   "name": "python",
   "nbconvert_exporter": "python",
   "pygments_lexer": "ipython3",
   "version": "3.7.3"
  }
 },
 "nbformat": 4,
 "nbformat_minor": 4
}
